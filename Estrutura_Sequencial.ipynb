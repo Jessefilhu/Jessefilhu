{
  "cells": [
    {
      "cell_type": "markdown",
      "metadata": {
        "colab_type": "text",
        "id": "view-in-github"
      },
      "source": [
        "<a href=\"https://colab.research.google.com/github/Jessefilhu/Jessefilhu/blob/main/Estrutura_Sequencial.ipynb\" target=\"_parent\"><img src=\"https://colab.research.google.com/assets/colab-badge.svg\" alt=\"Open In Colab\"/></a>"
      ]
    },
    {
      "cell_type": "markdown",
      "id": "bb0f9514",
      "metadata": {
        "id": "bb0f9514"
      },
      "source": [
        "# Lista de Estrutura Sequencial"
      ]
    },
    {
      "cell_type": "markdown",
      "id": "4e7a8c30",
      "metadata": {
        "id": "4e7a8c30"
      },
      "source": [
        "#### 1. Faça um Programa que mostre a mensagem (print) \"Alo mundo\" na tela."
      ]
    },
    {
      "cell_type": "code",
      "execution_count": null,
      "id": "883bfe85",
      "metadata": {
        "id": "883bfe85",
        "outputId": "71d8bbf2-f57a-4474-aa05-f2000fa97376"
      },
      "outputs": [
        {
          "name": "stdout",
          "output_type": "stream",
          "text": [
            "Alo mundo\n"
          ]
        }
      ],
      "source": [
        "print('Alo mundo')"
      ]
    },
    {
      "cell_type": "markdown",
      "id": "71d6d6a2",
      "metadata": {
        "id": "71d6d6a2"
      },
      "source": [
        "#### 2. Faça um Programa que peça um número (input) e então mostre a mensagem: \"O número informado foi [número].\""
      ]
    },
    {
      "cell_type": "code",
      "execution_count": null,
      "id": "30cfffcf",
      "metadata": {
        "id": "30cfffcf",
        "outputId": "30dc6f09-5b56-4767-a0e1-5699d560f6b9"
      },
      "outputs": [
        {
          "name": "stdout",
          "output_type": "stream",
          "text": [
            "Seu numero é  \n"
          ]
        }
      ],
      "source": [
        "numero = input(\"Digite um numero:\")\n",
        "print('Seu numero é ',numero)"
      ]
    },
    {
      "cell_type": "markdown",
      "id": "c5e43160",
      "metadata": {
        "id": "c5e43160"
      },
      "source": [
        "#### 3. Faça um Programa que peça dois números e imprima a soma."
      ]
    },
    {
      "cell_type": "code",
      "execution_count": null,
      "id": "b0e79590",
      "metadata": {
        "id": "b0e79590",
        "outputId": "7182485f-ed5c-48db-b2f8-4f2fd45bb61c"
      },
      "outputs": [
        {
          "name": "stdout",
          "output_type": "stream",
          "text": [
            "A soma dos 2 numero é: 13\n"
          ]
        }
      ],
      "source": [
        "num1 = int(input('Digite seu primeiro numero:'))\n",
        "num2 = int(input('Digite seu segundo numero:'))\n",
        "soma = num1+num2\n",
        "print(f'A soma dos 2 numero é: {soma}')"
      ]
    },
    {
      "cell_type": "markdown",
      "id": "17826987",
      "metadata": {
        "id": "17826987"
      },
      "source": [
        "#### 4. Faça um Programa que peça as 4 notas bimestrais de um aluno e mostre a média de todas as notas."
      ]
    },
    {
      "cell_type": "code",
      "execution_count": null,
      "id": "23b66762",
      "metadata": {
        "id": "23b66762",
        "outputId": "fb147e18-4524-4d7b-eb14-ccaa8ade21cd"
      },
      "outputs": [
        {
          "name": "stdout",
          "output_type": "stream",
          "text": [
            "A sua média bismestral é: 7.5 \n"
          ]
        }
      ],
      "source": [
        "n1 = float(input('Digite sua primeira nota:'))\n",
        "n2 = float(input('Digite sua segunda nota:'))\n",
        "n3 = float(input('Digite sua terceira nota:'))\n",
        "n4 = float(input('Digite sua quarta nota:'))\n",
        "media = (n1 + n2 + n3 + n4) / 4\n",
        "print(f'A sua média bismestral é: {media} ')"
      ]
    },
    {
      "cell_type": "markdown",
      "id": "62d461c5",
      "metadata": {
        "id": "62d461c5"
      },
      "source": [
        "#### 5. Faça um Programa que converta metros para centímetros. Você pode pedir o comprimento em metros para o usuário (input)."
      ]
    },
    {
      "cell_type": "code",
      "execution_count": null,
      "id": "d642f1ba",
      "metadata": {
        "id": "d642f1ba",
        "outputId": "18f8803d-321e-4838-e109-14d387f5a5d0"
      },
      "outputs": [
        {
          "name": "stdout",
          "output_type": "stream",
          "text": [
            "O 467.0m convertendo em cm da 46700.0\n"
          ]
        }
      ],
      "source": [
        "metro = float(input('Digite a quantidade de metros que você quer converter: '))\n",
        "cent = metro * 100\n",
        "print(f'O {metro}m convertendo em cm da {cent}')"
      ]
    },
    {
      "cell_type": "markdown",
      "id": "f1311697",
      "metadata": {
        "id": "f1311697"
      },
      "source": [
        "#### 7. Faça um Programa que calcule a área de uma sala de um apartamento. Para isso, o seu programa precisa pedir a largura da sala, o comprimento da sala e imprimir a área em m² da sala."
      ]
    },
    {
      "cell_type": "code",
      "execution_count": null,
      "id": "612ea24b",
      "metadata": {
        "id": "612ea24b",
        "outputId": "c054e272-6f51-4f71-d007-e7f6270ca4db"
      },
      "outputs": [
        {
          "name": "stdout",
          "output_type": "stream",
          "text": [
            "A sala tem a Area de: 100.0m²\n"
          ]
        }
      ],
      "source": [
        "largura = float(input('Digite a Largura da sala: '))\n",
        "comprimento = float(input('Digite a comprimento da sala: '))\n",
        "area = largura * comprimento\n",
        "print(f'A sala tem a Area de: {area}m²')"
      ]
    },
    {
      "cell_type": "markdown",
      "id": "2a285929",
      "metadata": {
        "id": "2a285929"
      },
      "source": [
        "#### 8. Faça um Programa que pergunte quanto você ganha por hora e o número de horas trabalhadas no mês. Calcule e mostre o total do seu salário no referido mês."
      ]
    },
    {
      "cell_type": "code",
      "execution_count": null,
      "id": "359e2232",
      "metadata": {
        "id": "359e2232",
        "outputId": "51ce0888-7993-4231-f4f1-88a3a34789b5"
      },
      "outputs": [
        {
          "name": "stdout",
          "output_type": "stream",
          "text": [
            "Seu Sálario do mês é de: 4368.0\n"
          ]
        }
      ],
      "source": [
        "ganhohora = float(input(\"Digite quanto você ganha por hora: \"))\n",
        "horatrab = float(input(\"Digite as suas horas trabalhadas: \"))\n",
        "salário = ganhohora * horatrab\n",
        "print(f'Seu Sálario do mês é de: {salário}')"
      ]
    },
    {
      "cell_type": "markdown",
      "id": "7e2d4615",
      "metadata": {
        "id": "7e2d4615"
      },
      "source": [
        "#### 9. Vamos criar um conversor de temperatura. Faça um Programa que peça a temperatura em graus Fahrenheit, transforme e mostre a temperatura em graus Celsius.\n",
        "$C = \\frac{5}{9}(F-32)$"
      ]
    },
    {
      "cell_type": "code",
      "execution_count": null,
      "id": "82daf9fd",
      "metadata": {
        "id": "82daf9fd",
        "outputId": "64eebae2-a07c-4415-ea3e-111aff861237"
      },
      "outputs": [
        {
          "name": "stdout",
          "output_type": "stream",
          "text": [
            "a Temperatura em Celsius é de: 37.77777777777778 °C\n"
          ]
        }
      ],
      "source": [
        "temp_fah = float(input(\"Digite a temperatura em Fahrenheit: \"))\n",
        "temp_celsius = (5/9) * (temp_fah - 32)\n",
        "print(f'a Temperatura em Celsius é de: {temp_celsius} °C')"
      ]
    },
    {
      "cell_type": "markdown",
      "id": "20708b1c",
      "metadata": {
        "id": "20708b1c"
      },
      "source": [
        "#### 10. Faça um Programa que peça a temperatura em graus Celsius, transforme e mostre em graus Fahrenheit.\n",
        "$F = \\frac{9}{5}C + 32$"
      ]
    },
    {
      "cell_type": "code",
      "execution_count": null,
      "id": "c73cfb38",
      "metadata": {
        "id": "c73cfb38",
        "outputId": "71219078-a9bf-4354-967a-b0982fbd060a"
      },
      "outputs": [
        {
          "name": "stdout",
          "output_type": "stream",
          "text": [
            "A temperatura em Fahrenheit é: 93.60000000000001 °F\n"
          ]
        }
      ],
      "source": [
        "temp_c = float(input('Digite a temperatura em Celsius: '))\n",
        "temp_f = (9/5) * (temp_c + 32)\n",
        "print(f'A temperatura em Fahrenheit é: {temp_f} °F')"
      ]
    },
    {
      "cell_type": "markdown",
      "id": "b263a9dc",
      "metadata": {
        "id": "b263a9dc"
      },
      "source": [
        "#### 12. Tendo como dados de entrada a altura (h) de uma pessoa, construa um algoritmo que calcule seu peso ideal, usando a seguinte fórmula:\n",
        "$P = 72,7h - 58$\n",
        "\n",
        "Lembrando que \"algoritmo\" nada mais é do que um programa, como todos os outros que você vem fazendo"
      ]
    },
    {
      "cell_type": "code",
      "execution_count": null,
      "id": "9a9b8dca",
      "metadata": {
        "id": "9a9b8dca",
        "outputId": "4edd2893-df90-45cc-a950-3b6230b5269e"
      },
      "outputs": [
        {
          "name": "stdout",
          "output_type": "stream",
          "text": [
            "Seu Peso ideal é : 67.044 kg\n"
          ]
        }
      ],
      "source": [
        "altura = float(input('Digite sua altura: '))\n",
        "peso = 72.7 * altura - 58\n",
        "print('Seu Peso ideal é :' ,peso,'kg')"
      ]
    },
    {
      "cell_type": "markdown",
      "id": "13bb40d7",
      "metadata": {
        "id": "13bb40d7"
      },
      "source": [
        "#### 13. Tendo como dado de entrada a altura (h) de uma pessoa, construa um algoritmo que calcule seu peso ideal, utilizando as seguintes fórmulas:\n",
        "##### a. Para homens: $P = 72,7h - 58$\n",
        "##### b. Para mulheres: $P = 62,1h - 44,7$"
      ]
    },
    {
      "cell_type": "code",
      "execution_count": null,
      "id": "bf82dc8c",
      "metadata": {
        "id": "bf82dc8c",
        "outputId": "1ff2dd9a-5bd3-42fc-e878-e8aa2d183e34"
      },
      "outputs": [
        {
          "name": "stdout",
          "output_type": "stream",
          "text": [
            "O peso ideal para homens é: 67.044 kg\n",
            "O peso ideal para mulheres é: 62.111999999999995 kg\n"
          ]
        },
        {
          "data": {
            "text/plain": [
              "'altura = float(input(\\'Digite a sua altura: \\'))\\nsexo = input(\\'Digite H/M para o seu sexo: \\')\\nif sexo == \\'H\\':\\n   peso = 72.7 * altura - 58\\n   print(f\\'Seu Peso ideal é: {peso}kg\\')\\nelif sexo == \\'M\\':\\n   peso = 62.1 * altura - 44.7\\n   print(f\\'Seu Peso ideal é: {peso}kg\\')\\nelse:\\n   print(\"Definição de Sexo inválido\")'"
            ]
          },
          "execution_count": 39,
          "metadata": {},
          "output_type": "execute_result"
        }
      ],
      "source": [
        "altura = float(input('Digite a sua altura em metros:'))\n",
        "peso_homens = 72.7 * altura - 58\n",
        "peso_mulheres = 62.1 * altura - 44.7\n",
        "    \n",
        "print('O peso ideal para homens é:' ,peso_homens,'kg')\n",
        "print('O peso ideal para mulheres é:',peso_mulheres,'kg')\n",
        "\n",
        "'''altura = float(input('Digite a sua altura: '))\n",
        "sexo = input('Digite H/M para o seu sexo: ')\n",
        "if sexo == 'H':\n",
        "    peso = 72.7 * altura - 58\n",
        "    print(f'Seu Peso ideal é: {peso}kg')\n",
        "elif sexo == 'M':\n",
        "    peso = 62.1 * altura - 44.7\n",
        "    print(f'Seu Peso ideal é: {peso}kg')\n",
        "else:\n",
        "    print(\"Definição de Sexo inválido\")'''\n",
        "    "
      ]
    },
    {
      "cell_type": "markdown",
      "id": "f208ef89",
      "metadata": {
        "id": "f208ef89"
      },
      "source": [
        "#### 15. Faça um Programa que pergunte quanto você ganha por hora e o número de horas trabalhadas no mês."
      ]
    },
    {
      "cell_type": "code",
      "execution_count": null,
      "id": "2d5b23e0",
      "metadata": {
        "id": "2d5b23e0"
      },
      "outputs": [],
      "source": [
        "ganhohora = float(input(\"Digite quanto você ganha por hora: \"))\n",
        "horastrab = float(input(\"Digite as suas horas trabalhadas: \"))\n"
      ]
    },
    {
      "cell_type": "markdown",
      "id": "607dee3c",
      "metadata": {
        "id": "607dee3c"
      },
      "source": [
        "#####  Calcule o salário bruto (horas * salario por hora)"
      ]
    },
    {
      "cell_type": "code",
      "execution_count": null,
      "id": "7f80ccbb",
      "metadata": {
        "id": "7f80ccbb",
        "outputId": "ba2b3ec7-f3c5-4583-b20a-0905427fd33d"
      },
      "outputs": [
        {
          "name": "stdout",
          "output_type": "stream",
          "text": [
            "seu salario é de: R$ 1400.0\n"
          ]
        }
      ],
      "source": [
        "salario_bruto = ganhohora * horastrab\n",
        "print(f'seu salario é de: R$ {salario_bruto}')"
      ]
    },
    {
      "cell_type": "markdown",
      "id": "2ed93cb0",
      "metadata": {
        "id": "2ed93cb0"
      },
      "source": [
        "##### Calcule o desconto do IR (11% do salário bruto)"
      ]
    },
    {
      "cell_type": "code",
      "execution_count": null,
      "id": "3363e22f",
      "metadata": {
        "id": "3363e22f",
        "outputId": "efc05fcb-1e1e-4408-e263-e712b0345dc0"
      },
      "outputs": [
        {
          "name": "stdout",
          "output_type": "stream",
          "text": [
            "seu imposto de renda é de: R$ 154.0\n"
          ]
        }
      ],
      "source": [
        "ir = 0.11 * salario_bruto\n",
        "print(f'seu imposto de renda é de: R$ {ir}')"
      ]
    },
    {
      "cell_type": "markdown",
      "id": "0994b2c0",
      "metadata": {
        "id": "0994b2c0"
      },
      "source": [
        "##### Calcule o desconto do INSS (8% do salário bruto)"
      ]
    },
    {
      "cell_type": "code",
      "execution_count": null,
      "id": "748c6088",
      "metadata": {
        "id": "748c6088",
        "outputId": "d65ea6a9-37bc-430b-ea8c-e67aefc16015"
      },
      "outputs": [
        {
          "name": "stdout",
          "output_type": "stream",
          "text": [
            "seu inss é de: R$ 112.0\n"
          ]
        }
      ],
      "source": [
        "inss = 0.08 * salario_bruto\n",
        "print(f'seu inss é de: R$ {inss}')"
      ]
    },
    {
      "cell_type": "markdown",
      "id": "06e8dae4",
      "metadata": {
        "id": "06e8dae4"
      },
      "source": [
        "##### Calcule o desconto do sindicato (5% do salário bruto)"
      ]
    },
    {
      "cell_type": "code",
      "execution_count": null,
      "id": "21b95b15",
      "metadata": {
        "id": "21b95b15",
        "outputId": "c78bd7c0-2f02-49a5-d166-11917ecb6fe4",
        "scrolled": true
      },
      "outputs": [
        {
          "name": "stdout",
          "output_type": "stream",
          "text": [
            "seu imposto de sindicato é de: R$ 70.0\n"
          ]
        }
      ],
      "source": [
        "sindicato = 0.05 * salario_bruto \n",
        "print(f'seu imposto de sindicato é de: R$ {sindicato}')"
      ]
    },
    {
      "cell_type": "markdown",
      "id": "bb14ce36",
      "metadata": {
        "id": "bb14ce36"
      },
      "source": [
        "##### Calcule o salário líquido (salário bruto - descontos)"
      ]
    },
    {
      "cell_type": "code",
      "execution_count": null,
      "id": "56317086",
      "metadata": {
        "id": "56317086",
        "outputId": "e247a02f-2287-41ad-d5cf-a417197834ed"
      },
      "outputs": [
        {
          "name": "stdout",
          "output_type": "stream",
          "text": [
            "Seu salario Liquido é de:  R$ - 1064.0\n"
          ]
        }
      ],
      "source": [
        "salario_liquido = salario_bruto - ir - inss - sindicato \n",
        "print('Seu salario Liquido é de:  R$ -' ,salario_liquido )"
      ]
    },
    {
      "cell_type": "markdown",
      "id": "cfbfcc87",
      "metadata": {
        "id": "cfbfcc87"
      },
      "source": [
        "#### 16. Faça um programa para uma loja de tintas. O programa deverá pedir o tamanho em metros quadrados da área a ser pintada. Considere que a cobertura da tinta é de 1 litro para cada 3 metros quadrados e que a tinta é vendida em latas de 18 litros, que custam R\\$ 80,00. Informe ao usuário a quantidades de latas de tinta a serem compradas e o preço total. (para simplificação nesse momento, não se preocupe em arredondar a quantidade de latas a serem compradas - vamos trabalhar isso em breve)"
      ]
    },
    {
      "cell_type": "code",
      "execution_count": null,
      "id": "fb6a083b",
      "metadata": {
        "id": "fb6a083b",
        "outputId": "5d8f0efd-4490-45b6-a840-b99ad1408c84"
      },
      "outputs": [
        {
          "name": "stdout",
          "output_type": "stream",
          "text": [
            "Serão necessárias 1.0 Lata, Custando R$ 80.0 no total\n"
          ]
        }
      ],
      "source": [
        "tamanho_area = float(input('Digite o tamanho em m² da área a ser pintada: '))\n",
        "qnt_litros = tamanho_area / 3\n",
        "qnt_latas = qnt_litros / 18\n",
        "preco = qnt_latas * 80\n",
        "print(f'Serão necessárias {qnt_latas} Lata, Custando R$ {preco} no total')\n"
      ]
    },
    {
      "cell_type": "markdown",
      "id": "d6503c92",
      "metadata": {
        "id": "d6503c92"
      },
      "source": [
        "#### 18. Faça um programa que peça o tamanho de um arquivo para download (em MB) e a velocidade de um link de Internet (em Mbps), calcule e informe o tempo aproximado de download do arquivo usando este link (em minutos).\n",
        "\n",
        "Detalhe: MB significa megabyte, Mb (com b minúsculo) significa megabit. Um megabit é 1/8 de um megabyte. "
      ]
    },
    {
      "cell_type": "code",
      "execution_count": null,
      "id": "0563aa62",
      "metadata": {
        "id": "0563aa62",
        "outputId": "2a053d2d-f73b-4601-d5fe-1b5052937111"
      },
      "outputs": [
        {
          "name": "stdout",
          "output_type": "stream",
          "text": [
            "O tempo de Download é de 3.3333333333333335 minutos\n"
          ]
        }
      ],
      "source": [
        "tamanho = float(input('Informe o tamanho do arquivo em MB: '))\n",
        "velocidade = float(input('Informe a velocidade da conexão em Mbps: '))\n",
        "\n",
        "# aqui trasnformamos megabytes em megabits para que tamanho e velocidade estejam na mesma unidade\n",
        "tamanho_megabits = tamanho * 8\n",
        "\n",
        "tempo = tamanho_megabits / velocidade\n",
        "# transformando em minutos\n",
        "tempo_minutos = tempo / 60\n",
        "print(f'O tempo de download é de {tempo_minutos} minutos')"
      ]
    }
  ],
  "metadata": {
    "colab": {
      "include_colab_link": true,
      "provenance": []
    },
    "kernelspec": {
      "display_name": "Python 3.11.0 64-bit (microsoft store)",
      "language": "python",
      "name": "python3"
    },
    "language_info": {
      "codemirror_mode": {
        "name": "ipython",
        "version": 3
      },
      "file_extension": ".py",
      "mimetype": "text/x-python",
      "name": "python",
      "nbconvert_exporter": "python",
      "pygments_lexer": "ipython3",
      "version": "3.11.0"
    },
    "vscode": {
      "interpreter": {
        "hash": "a2d3b882517b380a06283b6d2382ad16d3f1a7b39763eb02a6b4050b06118ac9"
      }
    }
  },
  "nbformat": 4,
  "nbformat_minor": 5
}
